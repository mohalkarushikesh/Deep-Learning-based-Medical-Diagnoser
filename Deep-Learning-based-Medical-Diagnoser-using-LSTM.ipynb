{
  "cells": [
    {
      "cell_type": "markdown",
      "metadata": {
        "id": "X7FeLFlkn9wy"
      },
      "source": [
        "Deep Learning based Medical Diagnoser using LSTM\n",
        "\n",
        "- We will build a deep learning model that will be trained on Patient's Problems which will be textual data,\n",
        "then our model will give the predicted Disease and will recommend Medicine to treat the patient's problem as an output.\n",
        "\n",
        "- This is clearly an application of Recurrent Neural Network (RNN).\n",
        "This is because we need a model that will store the information from the previous text and use it later to predict the output.\n",
        "Hence, we will use the Long Short-Term Memory (LSTM) algorithm with Tensorflow to train our model.\n",
        "\n",
        "- Long Short-Term Memory (LSTM) Networks\n",
        "\n",
        "  - When dealing with textual data, such as patient symptoms, a specific type of deep learning architecture called a Long Short-Term Memory (LSTM) network is often used.\n",
        "  - LSTM networks are well-suited for tasks involving sequences of data, as they can learn long-term dependencies between elements in the sequence.\n",
        "\n",
        "  - For example, consider a patient describing their symptoms as \" I've experienced a loss of appetite and don't enjoy food anymore,\n",
        "  followed by fatigue and muscle weakness.\" An LSTM network can understand the importance of the order of these symptoms (\"loss of appetite\" followed by \"fatigue and muscle weakness\")\n",
        "  to make an accurate diagnosis.\n",
        "\n",
        "- The dataset includes:\n",
        "  - Patient Symptoms: Textual descriptions of the patient's symptoms.\n",
        "  - Diagnoses: The confirmed diseases for each patient.\n",
        "  - Medications: The prescribed medications for each patient's condition\n",
        "\n",
        "- The model architecture utilizes an LSTM layer to process the sequence of tokens representing the patient's symptoms. The output of the LSTM layer is then fed into two separate dense layers, one for predicting the disease and another for predicting the medication."
      ]
    },
    {
      "cell_type": "markdown",
      "metadata": {
        "id": "nHf2xBKjoGw9"
      },
      "source": [
        "Importing Libraries:\n",
        "  - 'Tokenizer' from tensorflow will be used for text tokenization\n",
        "  - 'pad_sequences' will be used for sequence padding.\n",
        "  - 'to_categorical' will be used for converting labels to binary class matrices\n",
        "  - 'LabelEncoder' from scikit-learn will be used for encoding text labels as integers."
      ]
    },
    {
      "cell_type": "code",
      "execution_count": 1,
      "metadata": {
        "collapsed": true,
        "id": "aW9j_fMSp193"
      },
      "outputs": [],
      "source": [
        "# !pip install tensorflow"
      ]
    },
    {
      "cell_type": "code",
      "execution_count": 2,
      "metadata": {
        "id": "TSSvNxzboqju"
      },
      "outputs": [],
      "source": [
        "import pandas as pd\n",
        "import numpy as np\n",
        "from tensorflow.keras.preprocessing.text import Tokenizer\n",
        "from tensorflow.keras.preprocessing.sequence import pad_sequences\n",
        "from tensorflow.keras.utils import to_categorical\n",
        "from sklearn.preprocessing import LabelEncoder\n",
        "from tensorflow.keras.models import Model\n",
        "from tensorflow.keras.layers import Input, Embedding, LSTM, Dense"
      ]
    },
    {
      "cell_type": "markdown",
      "metadata": {
        "id": "yBw7bNVPoKGU"
      },
      "source": [
        "Loading the Dataset"
      ]
    },
    {
      "cell_type": "code",
      "execution_count": 3,
      "metadata": {
        "colab": {
          "base_uri": "https://localhost:8080/",
          "height": 206
        },
        "id": "KEZpIpsJn8Jf",
        "outputId": "0de34f97-3faf-41dc-ddd6-f0f214db0be9"
      },
      "outputs": [
        {
          "data": {
            "application/vnd.google.colaboratory.intrinsic+json": {
              "summary": "{\n  \"name\": \"data\",\n  \"rows\": 407,\n  \"fields\": [\n    {\n      \"column\": \"Patient_Problem\",\n      \"properties\": {\n        \"dtype\": \"string\",\n        \"num_unique_values\": 407,\n        \"samples\": [\n          \"Excessive sweating even in cool temperatures.\",\n          \"I've noticed blood in my stool and unexplained abdominal pain.\",\n          \"Experiencing memory lapses and difficulty concentrating on daily tasks.\"\n        ],\n        \"semantic_type\": \"\",\n        \"description\": \"\"\n      }\n    },\n    {\n      \"column\": \"Disease\",\n      \"properties\": {\n        \"dtype\": \"category\",\n        \"num_unique_values\": 178,\n        \"samples\": [\n          \"Early Onset Dementia\",\n          \"Streptococcal Pharyngitis\",\n          \"Uveitis\"\n        ],\n        \"semantic_type\": \"\",\n        \"description\": \"\"\n      }\n    },\n    {\n      \"column\": \"Prescription\",\n      \"properties\": {\n        \"dtype\": \"string\",\n        \"num_unique_values\": 388,\n        \"samples\": [\n          \"Regular eye exams; consider anti-VEGF therapy.\",\n          \"Balanced diet; regular exercise; CBT for mental health.\",\n          \"Adopt good sleep hygiene; consider melatonin supplements.\"\n        ],\n        \"semantic_type\": \"\",\n        \"description\": \"\"\n      }\n    }\n  ]\n}",
              "type": "dataframe",
              "variable_name": "data"
            },
            "text/html": [
              "\n",
              "  <div id=\"df-27a945c7-6c53-4d0a-8c12-0434edc495df\" class=\"colab-df-container\">\n",
              "    <div>\n",
              "<style scoped>\n",
              "    .dataframe tbody tr th:only-of-type {\n",
              "        vertical-align: middle;\n",
              "    }\n",
              "\n",
              "    .dataframe tbody tr th {\n",
              "        vertical-align: top;\n",
              "    }\n",
              "\n",
              "    .dataframe thead th {\n",
              "        text-align: right;\n",
              "    }\n",
              "</style>\n",
              "<table border=\"1\" class=\"dataframe\">\n",
              "  <thead>\n",
              "    <tr style=\"text-align: right;\">\n",
              "      <th></th>\n",
              "      <th>Patient_Problem</th>\n",
              "      <th>Disease</th>\n",
              "      <th>Prescription</th>\n",
              "    </tr>\n",
              "  </thead>\n",
              "  <tbody>\n",
              "    <tr>\n",
              "      <th>0</th>\n",
              "      <td>Constant fatigue and muscle weakness, struggli...</td>\n",
              "      <td>Chronic Fatigue Syndrome</td>\n",
              "      <td>Cognitive behavioral therapy, graded exercise ...</td>\n",
              "    </tr>\n",
              "    <tr>\n",
              "      <th>1</th>\n",
              "      <td>Frequent severe migraines, sensitivity to ligh...</td>\n",
              "      <td>Migraine with Aura</td>\n",
              "      <td>Prescription triptans, avoid triggers like bri...</td>\n",
              "    </tr>\n",
              "    <tr>\n",
              "      <th>2</th>\n",
              "      <td>Sudden weight gain and feeling cold, especiall...</td>\n",
              "      <td>Hypothyroidism</td>\n",
              "      <td>Levothyroxine to regulate thyroid hormone levels.</td>\n",
              "    </tr>\n",
              "    <tr>\n",
              "      <th>3</th>\n",
              "      <td>High fever, sore throat, and swollen lymph nod...</td>\n",
              "      <td>Mononucleosis</td>\n",
              "      <td>Rest and hydration, ibuprofen for pain.</td>\n",
              "    </tr>\n",
              "    <tr>\n",
              "      <th>4</th>\n",
              "      <td>Excessive thirst and frequent urination, dry m...</td>\n",
              "      <td>Diabetes Mellitus</td>\n",
              "      <td>Insulin therapy and lifestyle changes.</td>\n",
              "    </tr>\n",
              "  </tbody>\n",
              "</table>\n",
              "</div>\n",
              "    <div class=\"colab-df-buttons\">\n",
              "\n",
              "  <div class=\"colab-df-container\">\n",
              "    <button class=\"colab-df-convert\" onclick=\"convertToInteractive('df-27a945c7-6c53-4d0a-8c12-0434edc495df')\"\n",
              "            title=\"Convert this dataframe to an interactive table.\"\n",
              "            style=\"display:none;\">\n",
              "\n",
              "  <svg xmlns=\"http://www.w3.org/2000/svg\" height=\"24px\" viewBox=\"0 -960 960 960\">\n",
              "    <path d=\"M120-120v-720h720v720H120Zm60-500h600v-160H180v160Zm220 220h160v-160H400v160Zm0 220h160v-160H400v160ZM180-400h160v-160H180v160Zm440 0h160v-160H620v160ZM180-180h160v-160H180v160Zm440 0h160v-160H620v160Z\"/>\n",
              "  </svg>\n",
              "    </button>\n",
              "\n",
              "  <style>\n",
              "    .colab-df-container {\n",
              "      display:flex;\n",
              "      gap: 12px;\n",
              "    }\n",
              "\n",
              "    .colab-df-convert {\n",
              "      background-color: #E8F0FE;\n",
              "      border: none;\n",
              "      border-radius: 50%;\n",
              "      cursor: pointer;\n",
              "      display: none;\n",
              "      fill: #1967D2;\n",
              "      height: 32px;\n",
              "      padding: 0 0 0 0;\n",
              "      width: 32px;\n",
              "    }\n",
              "\n",
              "    .colab-df-convert:hover {\n",
              "      background-color: #E2EBFA;\n",
              "      box-shadow: 0px 1px 2px rgba(60, 64, 67, 0.3), 0px 1px 3px 1px rgba(60, 64, 67, 0.15);\n",
              "      fill: #174EA6;\n",
              "    }\n",
              "\n",
              "    .colab-df-buttons div {\n",
              "      margin-bottom: 4px;\n",
              "    }\n",
              "\n",
              "    [theme=dark] .colab-df-convert {\n",
              "      background-color: #3B4455;\n",
              "      fill: #D2E3FC;\n",
              "    }\n",
              "\n",
              "    [theme=dark] .colab-df-convert:hover {\n",
              "      background-color: #434B5C;\n",
              "      box-shadow: 0px 1px 3px 1px rgba(0, 0, 0, 0.15);\n",
              "      filter: drop-shadow(0px 1px 2px rgba(0, 0, 0, 0.3));\n",
              "      fill: #FFFFFF;\n",
              "    }\n",
              "  </style>\n",
              "\n",
              "    <script>\n",
              "      const buttonEl =\n",
              "        document.querySelector('#df-27a945c7-6c53-4d0a-8c12-0434edc495df button.colab-df-convert');\n",
              "      buttonEl.style.display =\n",
              "        google.colab.kernel.accessAllowed ? 'block' : 'none';\n",
              "\n",
              "      async function convertToInteractive(key) {\n",
              "        const element = document.querySelector('#df-27a945c7-6c53-4d0a-8c12-0434edc495df');\n",
              "        const dataTable =\n",
              "          await google.colab.kernel.invokeFunction('convertToInteractive',\n",
              "                                                    [key], {});\n",
              "        if (!dataTable) return;\n",
              "\n",
              "        const docLinkHtml = 'Like what you see? Visit the ' +\n",
              "          '<a target=\"_blank\" href=https://colab.research.google.com/notebooks/data_table.ipynb>data table notebook</a>'\n",
              "          + ' to learn more about interactive tables.';\n",
              "        element.innerHTML = '';\n",
              "        dataTable['output_type'] = 'display_data';\n",
              "        await google.colab.output.renderOutput(dataTable, element);\n",
              "        const docLink = document.createElement('div');\n",
              "        docLink.innerHTML = docLinkHtml;\n",
              "        element.appendChild(docLink);\n",
              "      }\n",
              "    </script>\n",
              "  </div>\n",
              "\n",
              "\n",
              "    <div id=\"df-be5b8359-75bd-4716-ae6d-3e7922d56632\">\n",
              "      <button class=\"colab-df-quickchart\" onclick=\"quickchart('df-be5b8359-75bd-4716-ae6d-3e7922d56632')\"\n",
              "                title=\"Suggest charts\"\n",
              "                style=\"display:none;\">\n",
              "\n",
              "<svg xmlns=\"http://www.w3.org/2000/svg\" height=\"24px\"viewBox=\"0 0 24 24\"\n",
              "     width=\"24px\">\n",
              "    <g>\n",
              "        <path d=\"M19 3H5c-1.1 0-2 .9-2 2v14c0 1.1.9 2 2 2h14c1.1 0 2-.9 2-2V5c0-1.1-.9-2-2-2zM9 17H7v-7h2v7zm4 0h-2V7h2v10zm4 0h-2v-4h2v4z\"/>\n",
              "    </g>\n",
              "</svg>\n",
              "      </button>\n",
              "\n",
              "<style>\n",
              "  .colab-df-quickchart {\n",
              "      --bg-color: #E8F0FE;\n",
              "      --fill-color: #1967D2;\n",
              "      --hover-bg-color: #E2EBFA;\n",
              "      --hover-fill-color: #174EA6;\n",
              "      --disabled-fill-color: #AAA;\n",
              "      --disabled-bg-color: #DDD;\n",
              "  }\n",
              "\n",
              "  [theme=dark] .colab-df-quickchart {\n",
              "      --bg-color: #3B4455;\n",
              "      --fill-color: #D2E3FC;\n",
              "      --hover-bg-color: #434B5C;\n",
              "      --hover-fill-color: #FFFFFF;\n",
              "      --disabled-bg-color: #3B4455;\n",
              "      --disabled-fill-color: #666;\n",
              "  }\n",
              "\n",
              "  .colab-df-quickchart {\n",
              "    background-color: var(--bg-color);\n",
              "    border: none;\n",
              "    border-radius: 50%;\n",
              "    cursor: pointer;\n",
              "    display: none;\n",
              "    fill: var(--fill-color);\n",
              "    height: 32px;\n",
              "    padding: 0;\n",
              "    width: 32px;\n",
              "  }\n",
              "\n",
              "  .colab-df-quickchart:hover {\n",
              "    background-color: var(--hover-bg-color);\n",
              "    box-shadow: 0 1px 2px rgba(60, 64, 67, 0.3), 0 1px 3px 1px rgba(60, 64, 67, 0.15);\n",
              "    fill: var(--button-hover-fill-color);\n",
              "  }\n",
              "\n",
              "  .colab-df-quickchart-complete:disabled,\n",
              "  .colab-df-quickchart-complete:disabled:hover {\n",
              "    background-color: var(--disabled-bg-color);\n",
              "    fill: var(--disabled-fill-color);\n",
              "    box-shadow: none;\n",
              "  }\n",
              "\n",
              "  .colab-df-spinner {\n",
              "    border: 2px solid var(--fill-color);\n",
              "    border-color: transparent;\n",
              "    border-bottom-color: var(--fill-color);\n",
              "    animation:\n",
              "      spin 1s steps(1) infinite;\n",
              "  }\n",
              "\n",
              "  @keyframes spin {\n",
              "    0% {\n",
              "      border-color: transparent;\n",
              "      border-bottom-color: var(--fill-color);\n",
              "      border-left-color: var(--fill-color);\n",
              "    }\n",
              "    20% {\n",
              "      border-color: transparent;\n",
              "      border-left-color: var(--fill-color);\n",
              "      border-top-color: var(--fill-color);\n",
              "    }\n",
              "    30% {\n",
              "      border-color: transparent;\n",
              "      border-left-color: var(--fill-color);\n",
              "      border-top-color: var(--fill-color);\n",
              "      border-right-color: var(--fill-color);\n",
              "    }\n",
              "    40% {\n",
              "      border-color: transparent;\n",
              "      border-right-color: var(--fill-color);\n",
              "      border-top-color: var(--fill-color);\n",
              "    }\n",
              "    60% {\n",
              "      border-color: transparent;\n",
              "      border-right-color: var(--fill-color);\n",
              "    }\n",
              "    80% {\n",
              "      border-color: transparent;\n",
              "      border-right-color: var(--fill-color);\n",
              "      border-bottom-color: var(--fill-color);\n",
              "    }\n",
              "    90% {\n",
              "      border-color: transparent;\n",
              "      border-bottom-color: var(--fill-color);\n",
              "    }\n",
              "  }\n",
              "</style>\n",
              "\n",
              "      <script>\n",
              "        async function quickchart(key) {\n",
              "          const quickchartButtonEl =\n",
              "            document.querySelector('#' + key + ' button');\n",
              "          quickchartButtonEl.disabled = true;  // To prevent multiple clicks.\n",
              "          quickchartButtonEl.classList.add('colab-df-spinner');\n",
              "          try {\n",
              "            const charts = await google.colab.kernel.invokeFunction(\n",
              "                'suggestCharts', [key], {});\n",
              "          } catch (error) {\n",
              "            console.error('Error during call to suggestCharts:', error);\n",
              "          }\n",
              "          quickchartButtonEl.classList.remove('colab-df-spinner');\n",
              "          quickchartButtonEl.classList.add('colab-df-quickchart-complete');\n",
              "        }\n",
              "        (() => {\n",
              "          let quickchartButtonEl =\n",
              "            document.querySelector('#df-be5b8359-75bd-4716-ae6d-3e7922d56632 button');\n",
              "          quickchartButtonEl.style.display =\n",
              "            google.colab.kernel.accessAllowed ? 'block' : 'none';\n",
              "        })();\n",
              "      </script>\n",
              "    </div>\n",
              "\n",
              "    </div>\n",
              "  </div>\n"
            ],
            "text/plain": [
              "                                     Patient_Problem  \\\n",
              "0  Constant fatigue and muscle weakness, struggli...   \n",
              "1  Frequent severe migraines, sensitivity to ligh...   \n",
              "2  Sudden weight gain and feeling cold, especiall...   \n",
              "3  High fever, sore throat, and swollen lymph nod...   \n",
              "4  Excessive thirst and frequent urination, dry m...   \n",
              "\n",
              "                    Disease                                       Prescription  \n",
              "0  Chronic Fatigue Syndrome  Cognitive behavioral therapy, graded exercise ...  \n",
              "1        Migraine with Aura  Prescription triptans, avoid triggers like bri...  \n",
              "2            Hypothyroidism  Levothyroxine to regulate thyroid hormone levels.  \n",
              "3             Mononucleosis            Rest and hydration, ibuprofen for pain.  \n",
              "4         Diabetes Mellitus             Insulin therapy and lifestyle changes.  "
            ]
          },
          "execution_count": 3,
          "metadata": {},
          "output_type": "execute_result"
        }
      ],
      "source": [
        "data = pd.read_csv('https://raw.githubusercontent.com/adil200/Medical-Diagnoser/main/medical_data.csv')\n",
        "data.head()"
      ]
    },
    {
      "cell_type": "markdown",
      "metadata": {
        "id": "dYo9krSxoVET"
      },
      "source": [
        "Data Processing and Preparation\n",
        "  - Text Tokenization: Converting textual data into sequences of numbers that the model can process.\n",
        "  - Padding Sequences: Making all sequences the same length by adding padding characters at the beginning or end of shorter sequences.\n",
        "  - Label Encoding: Converting categorical variables, such as disease names and medication names, into numerical labels."
      ]
    },
    {
      "cell_type": "markdown",
      "metadata": {
        "id": "2o0x1lr0qX0t"
      },
      "source": [
        "- Tokenizing and Sequencing Text Data"
      ]
    },
    {
      "cell_type": "code",
      "execution_count": 4,
      "metadata": {
        "id": "kKtcNcd4qZA4"
      },
      "outputs": [],
      "source": [
        "tokenizer = Tokenizer(num_words=5000, oov_token=\"<OOV>\")\n",
        "tokenizer.fit_on_texts(data['Patient_Problem'])\n",
        "\n",
        "sequences = tokenizer.texts_to_sequences(data['Patient_Problem'])"
      ]
    },
    {
      "cell_type": "markdown",
      "metadata": {
        "id": "MhNZXJOErodz"
      },
      "source": [
        "  - A 'tokenizer' variable is created to convert the textual data into sequences of integers. It only considers the top 5,000 words in the dataset in order to reduce the complexity. If the model encounters any out-of-vocabulary words during the training process then it will be replaced with the '<OOV>' token."
      ]
    },
    {
      "cell_type": "markdown",
      "metadata": {
        "id": "vSHRSfR2oZqf"
      },
      "source": [
        "- Padding Sequences\n",
        "- In order to make the input sequences have the same length, the code finds the longest sequence and pads all other sequences with zeros at the end ('post' padding) to match this sentence."
      ]
    },
    {
      "cell_type": "code",
      "execution_count": 5,
      "metadata": {
        "id": "sBbz75dFrvpR"
      },
      "outputs": [],
      "source": [
        "max_length = max(len(seq) for seq in sequences)\n",
        "padded_sequences = pad_sequences(sequences, maxlen=max_length, padding='post')"
      ]
    },
    {
      "cell_type": "markdown",
      "metadata": {
        "id": "dLkX9UXlob9v"
      },
      "source": [
        "- Encoding the Labels and Converting them to Categorical\n",
        "- We will encode the 'Disease' and 'Prescription' columns as integers. Then the integer-encoded labels are converted into binary class matrices."
      ]
    },
    {
      "cell_type": "code",
      "execution_count": 6,
      "metadata": {
        "id": "iOvJUBTiseyl"
      },
      "outputs": [],
      "source": [
        "# Encoding the labels\n",
        "label_encoder_disease = LabelEncoder()\n",
        "label_encoder_prescription = LabelEncoder()\n",
        "\n",
        "disease_labels = label_encoder_disease.fit_transform(data['Disease'])\n",
        "prescription_labels = label_encoder_prescription.fit_transform(data['Prescription'])\n",
        "\n",
        "# Converting labels to categorical\n",
        "disease_labels_categorical = to_categorical(disease_labels)\n",
        "prescription_labels_categorical = to_categorical(prescription_labels)"
      ]
    },
    {
      "cell_type": "markdown",
      "metadata": {
        "id": "Ztrztzy0oelU"
      },
      "source": [
        "- Combining Labels into a Multi-label Target Variable\n",
        "- Finally, now we will stack the binary class matrices together to form a single multi-label target variable 'Y'. This allows the model to predict both 'Disease' and 'Prescription' from the patient's problem."
      ]
    },
    {
      "cell_type": "code",
      "execution_count": 7,
      "metadata": {
        "id": "nJukAW8NuAVk"
      },
      "outputs": [],
      "source": [
        "Y = np.hstack((disease_labels_categorical, prescription_labels_categorical))"
      ]
    },
    {
      "cell_type": "markdown",
      "metadata": {
        "id": "mu0YlLBpuJPV"
      },
      "source": [
        "Model Building\n",
        "  - Now, we will build the model using the LSTM and Sequential algorithm from TensorFlow. This model will learn from our preprocessed dataset to predict diseases based on patient symptoms.\n",
        "\n"
      ]
    },
    {
      "cell_type": "markdown",
      "metadata": {
        "id": "q1AvxAEPuvQx"
      },
      "source": [
        "- Defining Model Architecture\n",
        "- We will use the 'Model' and 'Input' to define the model architecture, and 'Embedding' to convert the integer sequences into dense vectors of fixed size.\n",
        "- We will use 'Dense' for output layers that make predictions."
      ]
    },
    {
      "cell_type": "code",
      "execution_count": 8,
      "metadata": {
        "id": "RxR2S0AluGul"
      },
      "outputs": [],
      "source": [
        "input_layer = Input(shape=(max_length,))\n",
        "\n",
        "embedding = Embedding(input_dim=5000, output_dim=64)(input_layer)\n",
        "lstm_layer = LSTM(64)(embedding)\n",
        "\n",
        "disease_output = Dense(len(label_encoder_disease.classes_), activation='softmax', name='disease_output')(lstm_layer)\n",
        "prescription_output = Dense(len(label_encoder_prescription.classes_), activation='softmax', name='prescription_output')(lstm_layer)"
      ]
    },
    {
      "cell_type": "markdown",
      "metadata": {
        "id": "x7ByoCb4wPZh"
      },
      "source": [
        "- The model firstly have, an input layer that can handle sequences up to a certain length. Then there's an embedding layer that turns the numbers into vectors. After that, there's an LSTM layer that looks at the order of things, and finally, two dense layers that predict diseases and prescriptions using a softmax function for classification."
      ]
    },
    {
      "cell_type": "markdown",
      "metadata": {
        "id": "750BpCvpwUX3"
      },
      "source": [
        "Compiling the model"
      ]
    },
    {
      "cell_type": "code",
      "execution_count": 9,
      "metadata": {
        "colab": {
          "base_uri": "https://localhost:8080/",
          "height": 353
        },
        "id": "z5w-MNE8wJHc",
        "outputId": "28ce3316-d7e1-483d-98c8-2096b79669d6"
      },
      "outputs": [
        {
          "data": {
            "text/html": [
              "<pre style=\"white-space:pre;overflow-x:auto;line-height:normal;font-family:Menlo,'DejaVu Sans Mono',consolas,'Courier New',monospace\"><span style=\"font-weight: bold\">Model: \"functional\"</span>\n",
              "</pre>\n"
            ],
            "text/plain": [
              "\u001b[1mModel: \"functional\"\u001b[0m\n"
            ]
          },
          "metadata": {},
          "output_type": "display_data"
        },
        {
          "data": {
            "text/html": [
              "<pre style=\"white-space:pre;overflow-x:auto;line-height:normal;font-family:Menlo,'DejaVu Sans Mono',consolas,'Courier New',monospace\">┏━━━━━━━━━━━━━━━━━━━━━┳━━━━━━━━━━━━━━━━━━━┳━━━━━━━━━━━━┳━━━━━━━━━━━━━━━━━━━┓\n",
              "┃<span style=\"font-weight: bold\"> Layer (type)        </span>┃<span style=\"font-weight: bold\"> Output Shape      </span>┃<span style=\"font-weight: bold\">    Param # </span>┃<span style=\"font-weight: bold\"> Connected to      </span>┃\n",
              "┡━━━━━━━━━━━━━━━━━━━━━╇━━━━━━━━━━━━━━━━━━━╇━━━━━━━━━━━━╇━━━━━━━━━━━━━━━━━━━┩\n",
              "│ input_layer         │ (<span style=\"color: #00d7ff; text-decoration-color: #00d7ff\">None</span>, <span style=\"color: #00af00; text-decoration-color: #00af00\">17</span>)        │          <span style=\"color: #00af00; text-decoration-color: #00af00\">0</span> │ -                 │\n",
              "│ (<span style=\"color: #0087ff; text-decoration-color: #0087ff\">InputLayer</span>)        │                   │            │                   │\n",
              "├─────────────────────┼───────────────────┼────────────┼───────────────────┤\n",
              "│ embedding           │ (<span style=\"color: #00d7ff; text-decoration-color: #00d7ff\">None</span>, <span style=\"color: #00af00; text-decoration-color: #00af00\">17</span>, <span style=\"color: #00af00; text-decoration-color: #00af00\">64</span>)    │    <span style=\"color: #00af00; text-decoration-color: #00af00\">320,000</span> │ input_layer[<span style=\"color: #00af00; text-decoration-color: #00af00\">0</span>][<span style=\"color: #00af00; text-decoration-color: #00af00\">0</span>] │\n",
              "│ (<span style=\"color: #0087ff; text-decoration-color: #0087ff\">Embedding</span>)         │                   │            │                   │\n",
              "├─────────────────────┼───────────────────┼────────────┼───────────────────┤\n",
              "│ lstm (<span style=\"color: #0087ff; text-decoration-color: #0087ff\">LSTM</span>)         │ (<span style=\"color: #00d7ff; text-decoration-color: #00d7ff\">None</span>, <span style=\"color: #00af00; text-decoration-color: #00af00\">64</span>)        │     <span style=\"color: #00af00; text-decoration-color: #00af00\">33,024</span> │ embedding[<span style=\"color: #00af00; text-decoration-color: #00af00\">0</span>][<span style=\"color: #00af00; text-decoration-color: #00af00\">0</span>]   │\n",
              "├─────────────────────┼───────────────────┼────────────┼───────────────────┤\n",
              "│ disease_output      │ (<span style=\"color: #00d7ff; text-decoration-color: #00d7ff\">None</span>, <span style=\"color: #00af00; text-decoration-color: #00af00\">178</span>)       │     <span style=\"color: #00af00; text-decoration-color: #00af00\">11,570</span> │ lstm[<span style=\"color: #00af00; text-decoration-color: #00af00\">0</span>][<span style=\"color: #00af00; text-decoration-color: #00af00\">0</span>]        │\n",
              "│ (<span style=\"color: #0087ff; text-decoration-color: #0087ff\">Dense</span>)             │                   │            │                   │\n",
              "├─────────────────────┼───────────────────┼────────────┼───────────────────┤\n",
              "│ prescription_output │ (<span style=\"color: #00d7ff; text-decoration-color: #00d7ff\">None</span>, <span style=\"color: #00af00; text-decoration-color: #00af00\">388</span>)       │     <span style=\"color: #00af00; text-decoration-color: #00af00\">25,220</span> │ lstm[<span style=\"color: #00af00; text-decoration-color: #00af00\">0</span>][<span style=\"color: #00af00; text-decoration-color: #00af00\">0</span>]        │\n",
              "│ (<span style=\"color: #0087ff; text-decoration-color: #0087ff\">Dense</span>)             │                   │            │                   │\n",
              "└─────────────────────┴───────────────────┴────────────┴───────────────────┘\n",
              "</pre>\n"
            ],
            "text/plain": [
              "┏━━━━━━━━━━━━━━━━━━━━━┳━━━━━━━━━━━━━━━━━━━┳━━━━━━━━━━━━┳━━━━━━━━━━━━━━━━━━━┓\n",
              "┃\u001b[1m \u001b[0m\u001b[1mLayer (type)       \u001b[0m\u001b[1m \u001b[0m┃\u001b[1m \u001b[0m\u001b[1mOutput Shape     \u001b[0m\u001b[1m \u001b[0m┃\u001b[1m \u001b[0m\u001b[1m   Param #\u001b[0m\u001b[1m \u001b[0m┃\u001b[1m \u001b[0m\u001b[1mConnected to     \u001b[0m\u001b[1m \u001b[0m┃\n",
              "┡━━━━━━━━━━━━━━━━━━━━━╇━━━━━━━━━━━━━━━━━━━╇━━━━━━━━━━━━╇━━━━━━━━━━━━━━━━━━━┩\n",
              "│ input_layer         │ (\u001b[38;5;45mNone\u001b[0m, \u001b[38;5;34m17\u001b[0m)        │          \u001b[38;5;34m0\u001b[0m │ -                 │\n",
              "│ (\u001b[38;5;33mInputLayer\u001b[0m)        │                   │            │                   │\n",
              "├─────────────────────┼───────────────────┼────────────┼───────────────────┤\n",
              "│ embedding           │ (\u001b[38;5;45mNone\u001b[0m, \u001b[38;5;34m17\u001b[0m, \u001b[38;5;34m64\u001b[0m)    │    \u001b[38;5;34m320,000\u001b[0m │ input_layer[\u001b[38;5;34m0\u001b[0m][\u001b[38;5;34m0\u001b[0m] │\n",
              "│ (\u001b[38;5;33mEmbedding\u001b[0m)         │                   │            │                   │\n",
              "├─────────────────────┼───────────────────┼────────────┼───────────────────┤\n",
              "│ lstm (\u001b[38;5;33mLSTM\u001b[0m)         │ (\u001b[38;5;45mNone\u001b[0m, \u001b[38;5;34m64\u001b[0m)        │     \u001b[38;5;34m33,024\u001b[0m │ embedding[\u001b[38;5;34m0\u001b[0m][\u001b[38;5;34m0\u001b[0m]   │\n",
              "├─────────────────────┼───────────────────┼────────────┼───────────────────┤\n",
              "│ disease_output      │ (\u001b[38;5;45mNone\u001b[0m, \u001b[38;5;34m178\u001b[0m)       │     \u001b[38;5;34m11,570\u001b[0m │ lstm[\u001b[38;5;34m0\u001b[0m][\u001b[38;5;34m0\u001b[0m]        │\n",
              "│ (\u001b[38;5;33mDense\u001b[0m)             │                   │            │                   │\n",
              "├─────────────────────┼───────────────────┼────────────┼───────────────────┤\n",
              "│ prescription_output │ (\u001b[38;5;45mNone\u001b[0m, \u001b[38;5;34m388\u001b[0m)       │     \u001b[38;5;34m25,220\u001b[0m │ lstm[\u001b[38;5;34m0\u001b[0m][\u001b[38;5;34m0\u001b[0m]        │\n",
              "│ (\u001b[38;5;33mDense\u001b[0m)             │                   │            │                   │\n",
              "└─────────────────────┴───────────────────┴────────────┴───────────────────┘\n"
            ]
          },
          "metadata": {},
          "output_type": "display_data"
        },
        {
          "data": {
            "text/html": [
              "<pre style=\"white-space:pre;overflow-x:auto;line-height:normal;font-family:Menlo,'DejaVu Sans Mono',consolas,'Courier New',monospace\"><span style=\"font-weight: bold\"> Total params: </span><span style=\"color: #00af00; text-decoration-color: #00af00\">389,814</span> (1.49 MB)\n",
              "</pre>\n"
            ],
            "text/plain": [
              "\u001b[1m Total params: \u001b[0m\u001b[38;5;34m389,814\u001b[0m (1.49 MB)\n"
            ]
          },
          "metadata": {},
          "output_type": "display_data"
        },
        {
          "data": {
            "text/html": [
              "<pre style=\"white-space:pre;overflow-x:auto;line-height:normal;font-family:Menlo,'DejaVu Sans Mono',consolas,'Courier New',monospace\"><span style=\"font-weight: bold\"> Trainable params: </span><span style=\"color: #00af00; text-decoration-color: #00af00\">389,814</span> (1.49 MB)\n",
              "</pre>\n"
            ],
            "text/plain": [
              "\u001b[1m Trainable params: \u001b[0m\u001b[38;5;34m389,814\u001b[0m (1.49 MB)\n"
            ]
          },
          "metadata": {},
          "output_type": "display_data"
        },
        {
          "data": {
            "text/html": [
              "<pre style=\"white-space:pre;overflow-x:auto;line-height:normal;font-family:Menlo,'DejaVu Sans Mono',consolas,'Courier New',monospace\"><span style=\"font-weight: bold\"> Non-trainable params: </span><span style=\"color: #00af00; text-decoration-color: #00af00\">0</span> (0.00 B)\n",
              "</pre>\n"
            ],
            "text/plain": [
              "\u001b[1m Non-trainable params: \u001b[0m\u001b[38;5;34m0\u001b[0m (0.00 B)\n"
            ]
          },
          "metadata": {},
          "output_type": "display_data"
        }
      ],
      "source": [
        "model = Model(inputs=input_layer, outputs=[disease_output, prescription_output])\n",
        "model.compile(\n",
        "    loss={'disease_output': 'categorical_crossentropy',\n",
        "    'prescription_output': 'categorical_crossentropy'},\n",
        "    optimizer='adam',\n",
        "    metrics={'disease_output': ['accuracy'], 'prescription_output': ['accuracy']}\n",
        ")\n",
        "\n",
        "model.summary()"
      ]
    },
    {
      "cell_type": "markdown",
      "metadata": {
        "id": "QEBn-BCqxmIX"
      },
      "source": [
        "- Training the model"
      ]
    },
    {
      "cell_type": "code",
      "execution_count": 10,
      "metadata": {
        "colab": {
          "base_uri": "https://localhost:8080/"
        },
        "id": "r5gIZBiZxlxO",
        "outputId": "5a3929ac-0799-4990-944e-b08467fb7c16"
      },
      "outputs": [
        {
          "name": "stdout",
          "output_type": "stream",
          "text": [
            "Epoch 1/100\n",
            "\u001b[1m13/13\u001b[0m \u001b[32m━━━━━━━━━━━━━━━━━━━━\u001b[0m\u001b[37m\u001b[0m \u001b[1m3s\u001b[0m 9ms/step - disease_output_accuracy: 0.0080 - disease_output_loss: 5.1807 - loss: 11.1441 - prescription_output_accuracy: 0.0026 - prescription_output_loss: 5.9635\n",
            "Epoch 2/100\n",
            "\u001b[1m13/13\u001b[0m \u001b[32m━━━━━━━━━━━━━━━━━━━━\u001b[0m\u001b[37m\u001b[0m \u001b[1m0s\u001b[0m 8ms/step - disease_output_accuracy: 0.0347 - disease_output_loss: 5.1619 - loss: 11.1225 - prescription_output_accuracy: 0.0018 - prescription_output_loss: 5.9605\n",
            "Epoch 3/100\n",
            "\u001b[1m13/13\u001b[0m \u001b[32m━━━━━━━━━━━━━━━━━━━━\u001b[0m\u001b[37m\u001b[0m \u001b[1m0s\u001b[0m 8ms/step - disease_output_accuracy: 0.0277 - disease_output_loss: 5.1105 - loss: 11.0723 - prescription_output_accuracy: 0.0129 - prescription_output_loss: 5.9614\n",
            "Epoch 4/100\n",
            "\u001b[1m13/13\u001b[0m \u001b[32m━━━━━━━━━━━━━━━━━━━━\u001b[0m\u001b[37m\u001b[0m \u001b[1m0s\u001b[0m 9ms/step - disease_output_accuracy: 0.0282 - disease_output_loss: 4.9767 - loss: 10.9421 - prescription_output_accuracy: 0.0129 - prescription_output_loss: 5.9657\n",
            "Epoch 5/100\n",
            "\u001b[1m13/13\u001b[0m \u001b[32m━━━━━━━━━━━━━━━━━━━━\u001b[0m\u001b[37m\u001b[0m \u001b[1m0s\u001b[0m 12ms/step - disease_output_accuracy: 0.0371 - disease_output_loss: 4.8612 - loss: 10.7903 - prescription_output_accuracy: 0.0195 - prescription_output_loss: 5.9296\n",
            "Epoch 6/100\n",
            "\u001b[1m13/13\u001b[0m \u001b[32m━━━━━━━━━━━━━━━━━━━━\u001b[0m\u001b[37m\u001b[0m \u001b[1m0s\u001b[0m 9ms/step - disease_output_accuracy: 0.0577 - disease_output_loss: 4.7595 - loss: 10.6672 - prescription_output_accuracy: 0.0214 - prescription_output_loss: 5.9075\n",
            "Epoch 7/100\n",
            "\u001b[1m13/13\u001b[0m \u001b[32m━━━━━━━━━━━━━━━━━━━━\u001b[0m\u001b[37m\u001b[0m \u001b[1m0s\u001b[0m 8ms/step - disease_output_accuracy: 0.0336 - disease_output_loss: 4.6814 - loss: 10.5131 - prescription_output_accuracy: 0.0290 - prescription_output_loss: 5.8328\n",
            "Epoch 8/100\n",
            "\u001b[1m13/13\u001b[0m \u001b[32m━━━━━━━━━━━━━━━━━━━━\u001b[0m\u001b[37m\u001b[0m \u001b[1m0s\u001b[0m 9ms/step - disease_output_accuracy: 0.0488 - disease_output_loss: 4.5973 - loss: 10.3998 - prescription_output_accuracy: 0.0086 - prescription_output_loss: 5.8023\n",
            "Epoch 9/100\n",
            "\u001b[1m13/13\u001b[0m \u001b[32m━━━━━━━━━━━━━━━━━━━━\u001b[0m\u001b[37m\u001b[0m \u001b[1m0s\u001b[0m 9ms/step - disease_output_accuracy: 0.0436 - disease_output_loss: 4.5540 - loss: 10.2525 - prescription_output_accuracy: 0.0218 - prescription_output_loss: 5.6977\n",
            "Epoch 10/100\n",
            "\u001b[1m13/13\u001b[0m \u001b[32m━━━━━━━━━━━━━━━━━━━━\u001b[0m\u001b[37m\u001b[0m \u001b[1m0s\u001b[0m 8ms/step - disease_output_accuracy: 0.0608 - disease_output_loss: 4.4514 - loss: 10.0996 - prescription_output_accuracy: 0.0157 - prescription_output_loss: 5.6486\n",
            "Epoch 11/100\n",
            "\u001b[1m13/13\u001b[0m \u001b[32m━━━━━━━━━━━━━━━━━━━━\u001b[0m\u001b[37m\u001b[0m \u001b[1m0s\u001b[0m 9ms/step - disease_output_accuracy: 0.0509 - disease_output_loss: 4.2879 - loss: 9.8068 - prescription_output_accuracy: 0.0255 - prescription_output_loss: 5.5196\n",
            "Epoch 12/100\n",
            "\u001b[1m13/13\u001b[0m \u001b[32m━━━━━━━━━━━━━━━━━━━━\u001b[0m\u001b[37m\u001b[0m \u001b[1m0s\u001b[0m 9ms/step - disease_output_accuracy: 0.0780 - disease_output_loss: 4.2464 - loss: 9.6871 - prescription_output_accuracy: 0.0266 - prescription_output_loss: 5.4408\n",
            "Epoch 13/100\n",
            "\u001b[1m13/13\u001b[0m \u001b[32m━━━━━━━━━━━━━━━━━━━━\u001b[0m\u001b[37m\u001b[0m \u001b[1m0s\u001b[0m 9ms/step - disease_output_accuracy: 0.0602 - disease_output_loss: 4.2082 - loss: 9.6016 - prescription_output_accuracy: 0.0263 - prescription_output_loss: 5.3941\n",
            "Epoch 14/100\n",
            "\u001b[1m13/13\u001b[0m \u001b[32m━━━━━━━━━━━━━━━━━━━━\u001b[0m\u001b[37m\u001b[0m \u001b[1m0s\u001b[0m 8ms/step - disease_output_accuracy: 0.0616 - disease_output_loss: 4.0709 - loss: 9.3420 - prescription_output_accuracy: 0.0248 - prescription_output_loss: 5.2724\n",
            "Epoch 15/100\n",
            "\u001b[1m13/13\u001b[0m \u001b[32m━━━━━━━━━━━━━━━━━━━━\u001b[0m\u001b[37m\u001b[0m \u001b[1m0s\u001b[0m 9ms/step - disease_output_accuracy: 0.0815 - disease_output_loss: 4.0862 - loss: 9.2908 - prescription_output_accuracy: 0.0262 - prescription_output_loss: 5.2046\n",
            "Epoch 16/100\n",
            "\u001b[1m13/13\u001b[0m \u001b[32m━━━━━━━━━━━━━━━━━━━━\u001b[0m\u001b[37m\u001b[0m \u001b[1m0s\u001b[0m 9ms/step - disease_output_accuracy: 0.0773 - disease_output_loss: 3.9060 - loss: 9.0374 - prescription_output_accuracy: 0.0234 - prescription_output_loss: 5.1322\n",
            "Epoch 17/100\n",
            "\u001b[1m13/13\u001b[0m \u001b[32m━━━━━━━━━━━━━━━━━━━━\u001b[0m\u001b[37m\u001b[0m \u001b[1m0s\u001b[0m 10ms/step - disease_output_accuracy: 0.0796 - disease_output_loss: 3.8758 - loss: 8.9602 - prescription_output_accuracy: 0.0128 - prescription_output_loss: 5.0841\n",
            "Epoch 18/100\n",
            "\u001b[1m13/13\u001b[0m \u001b[32m━━━━━━━━━━━━━━━━━━━━\u001b[0m\u001b[37m\u001b[0m \u001b[1m0s\u001b[0m 13ms/step - disease_output_accuracy: 0.0949 - disease_output_loss: 3.8290 - loss: 8.8274 - prescription_output_accuracy: 0.0321 - prescription_output_loss: 4.9988\n",
            "Epoch 19/100\n",
            "\u001b[1m13/13\u001b[0m \u001b[32m━━━━━━━━━━━━━━━━━━━━\u001b[0m\u001b[37m\u001b[0m \u001b[1m0s\u001b[0m 12ms/step - disease_output_accuracy: 0.1258 - disease_output_loss: 3.7496 - loss: 8.6377 - prescription_output_accuracy: 0.0421 - prescription_output_loss: 4.8888\n",
            "Epoch 20/100\n",
            "\u001b[1m13/13\u001b[0m \u001b[32m━━━━━━━━━━━━━━━━━━━━\u001b[0m\u001b[37m\u001b[0m \u001b[1m0s\u001b[0m 12ms/step - disease_output_accuracy: 0.1397 - disease_output_loss: 3.6506 - loss: 8.4807 - prescription_output_accuracy: 0.0527 - prescription_output_loss: 4.8306\n",
            "Epoch 21/100\n",
            "\u001b[1m13/13\u001b[0m \u001b[32m━━━━━━━━━━━━━━━━━━━━\u001b[0m\u001b[37m\u001b[0m \u001b[1m0s\u001b[0m 13ms/step - disease_output_accuracy: 0.1461 - disease_output_loss: 3.5433 - loss: 8.3021 - prescription_output_accuracy: 0.0414 - prescription_output_loss: 4.7595\n",
            "Epoch 22/100\n",
            "\u001b[1m13/13\u001b[0m \u001b[32m━━━━━━━━━━━━━━━━━━━━\u001b[0m\u001b[37m\u001b[0m \u001b[1m0s\u001b[0m 15ms/step - disease_output_accuracy: 0.1946 - disease_output_loss: 3.4396 - loss: 8.1360 - prescription_output_accuracy: 0.0783 - prescription_output_loss: 4.6962\n",
            "Epoch 23/100\n",
            "\u001b[1m13/13\u001b[0m \u001b[32m━━━━━━━━━━━━━━━━━━━━\u001b[0m\u001b[37m\u001b[0m \u001b[1m0s\u001b[0m 13ms/step - disease_output_accuracy: 0.2313 - disease_output_loss: 3.4141 - loss: 8.0143 - prescription_output_accuracy: 0.0693 - prescription_output_loss: 4.6010\n",
            "Epoch 24/100\n",
            "\u001b[1m13/13\u001b[0m \u001b[32m━━━━━━━━━━━━━━━━━━━━\u001b[0m\u001b[37m\u001b[0m \u001b[1m0s\u001b[0m 13ms/step - disease_output_accuracy: 0.2139 - disease_output_loss: 3.3505 - loss: 7.9144 - prescription_output_accuracy: 0.0786 - prescription_output_loss: 4.5641\n",
            "Epoch 25/100\n",
            "\u001b[1m13/13\u001b[0m \u001b[32m━━━━━━━━━━━━━━━━━━━━\u001b[0m\u001b[37m\u001b[0m \u001b[1m0s\u001b[0m 9ms/step - disease_output_accuracy: 0.1988 - disease_output_loss: 3.2171 - loss: 7.6761 - prescription_output_accuracy: 0.0889 - prescription_output_loss: 4.4593\n",
            "Epoch 26/100\n",
            "\u001b[1m13/13\u001b[0m \u001b[32m━━━━━━━━━━━━━━━━━━━━\u001b[0m\u001b[37m\u001b[0m \u001b[1m0s\u001b[0m 9ms/step - disease_output_accuracy: 0.2296 - disease_output_loss: 3.1603 - loss: 7.5842 - prescription_output_accuracy: 0.1017 - prescription_output_loss: 4.4244\n",
            "Epoch 27/100\n",
            "\u001b[1m13/13\u001b[0m \u001b[32m━━━━━━━━━━━━━━━━━━━━\u001b[0m\u001b[37m\u001b[0m \u001b[1m0s\u001b[0m 11ms/step - disease_output_accuracy: 0.2599 - disease_output_loss: 3.1578 - loss: 7.5101 - prescription_output_accuracy: 0.0990 - prescription_output_loss: 4.3516\n",
            "Epoch 28/100\n",
            "\u001b[1m13/13\u001b[0m \u001b[32m━━━━━━━━━━━━━━━━━━━━\u001b[0m\u001b[37m\u001b[0m \u001b[1m0s\u001b[0m 9ms/step - disease_output_accuracy: 0.2463 - disease_output_loss: 3.0672 - loss: 7.3226 - prescription_output_accuracy: 0.1125 - prescription_output_loss: 4.2550\n",
            "Epoch 29/100\n",
            "\u001b[1m13/13\u001b[0m \u001b[32m━━━━━━━━━━━━━━━━━━━━\u001b[0m\u001b[37m\u001b[0m \u001b[1m0s\u001b[0m 8ms/step - disease_output_accuracy: 0.2373 - disease_output_loss: 3.0642 - loss: 7.2486 - prescription_output_accuracy: 0.1153 - prescription_output_loss: 4.1845\n",
            "Epoch 30/100\n",
            "\u001b[1m13/13\u001b[0m \u001b[32m━━━━━━━━━━━━━━━━━━━━\u001b[0m\u001b[37m\u001b[0m \u001b[1m0s\u001b[0m 11ms/step - disease_output_accuracy: 0.2863 - disease_output_loss: 2.9460 - loss: 7.0998 - prescription_output_accuracy: 0.1392 - prescription_output_loss: 4.1525\n",
            "Epoch 31/100\n",
            "\u001b[1m13/13\u001b[0m \u001b[32m━━━━━━━━━━━━━━━━━━━━\u001b[0m\u001b[37m\u001b[0m \u001b[1m0s\u001b[0m 9ms/step - disease_output_accuracy: 0.3078 - disease_output_loss: 2.9283 - loss: 6.9769 - prescription_output_accuracy: 0.1507 - prescription_output_loss: 4.0483\n",
            "Epoch 32/100\n",
            "\u001b[1m13/13\u001b[0m \u001b[32m━━━━━━━━━━━━━━━━━━━━\u001b[0m\u001b[37m\u001b[0m \u001b[1m0s\u001b[0m 9ms/step - disease_output_accuracy: 0.2673 - disease_output_loss: 2.8652 - loss: 6.9138 - prescription_output_accuracy: 0.1636 - prescription_output_loss: 4.0489\n",
            "Epoch 33/100\n",
            "\u001b[1m13/13\u001b[0m \u001b[32m━━━━━━━━━━━━━━━━━━━━\u001b[0m\u001b[37m\u001b[0m \u001b[1m0s\u001b[0m 9ms/step - disease_output_accuracy: 0.3351 - disease_output_loss: 2.7923 - loss: 6.7283 - prescription_output_accuracy: 0.1857 - prescription_output_loss: 3.9354\n",
            "Epoch 34/100\n",
            "\u001b[1m13/13\u001b[0m \u001b[32m━━━━━━━━━━━━━━━━━━━━\u001b[0m\u001b[37m\u001b[0m \u001b[1m0s\u001b[0m 10ms/step - disease_output_accuracy: 0.3352 - disease_output_loss: 2.7191 - loss: 6.6383 - prescription_output_accuracy: 0.1700 - prescription_output_loss: 3.9194\n",
            "Epoch 35/100\n",
            "\u001b[1m13/13\u001b[0m \u001b[32m━━━━━━━━━━━━━━━━━━━━\u001b[0m\u001b[37m\u001b[0m \u001b[1m0s\u001b[0m 11ms/step - disease_output_accuracy: 0.3482 - disease_output_loss: 2.7103 - loss: 6.5562 - prescription_output_accuracy: 0.1605 - prescription_output_loss: 3.8470\n",
            "Epoch 36/100\n",
            "\u001b[1m13/13\u001b[0m \u001b[32m━━━━━━━━━━━━━━━━━━━━\u001b[0m\u001b[37m\u001b[0m \u001b[1m0s\u001b[0m 9ms/step - disease_output_accuracy: 0.3384 - disease_output_loss: 2.6097 - loss: 6.4095 - prescription_output_accuracy: 0.2068 - prescription_output_loss: 3.8010\n",
            "Epoch 37/100\n",
            "\u001b[1m13/13\u001b[0m \u001b[32m━━━━━━━━━━━━━━━━━━━━\u001b[0m\u001b[37m\u001b[0m \u001b[1m0s\u001b[0m 10ms/step - disease_output_accuracy: 0.3660 - disease_output_loss: 2.5947 - loss: 6.4343 - prescription_output_accuracy: 0.1942 - prescription_output_loss: 3.8401\n",
            "Epoch 38/100\n",
            "\u001b[1m13/13\u001b[0m \u001b[32m━━━━━━━━━━━━━━━━━━━━\u001b[0m\u001b[37m\u001b[0m \u001b[1m0s\u001b[0m 9ms/step - disease_output_accuracy: 0.3210 - disease_output_loss: 2.6660 - loss: 6.4439 - prescription_output_accuracy: 0.1793 - prescription_output_loss: 3.7777\n",
            "Epoch 39/100\n",
            "\u001b[1m13/13\u001b[0m \u001b[32m━━━━━━━━━━━━━━━━━━━━\u001b[0m\u001b[37m\u001b[0m \u001b[1m0s\u001b[0m 10ms/step - disease_output_accuracy: 0.3599 - disease_output_loss: 2.6025 - loss: 6.3503 - prescription_output_accuracy: 0.1800 - prescription_output_loss: 3.7479\n",
            "Epoch 40/100\n",
            "\u001b[1m13/13\u001b[0m \u001b[32m━━━━━━━━━━━━━━━━━━━━\u001b[0m\u001b[37m\u001b[0m \u001b[1m0s\u001b[0m 9ms/step - disease_output_accuracy: 0.3836 - disease_output_loss: 2.4971 - loss: 6.1729 - prescription_output_accuracy: 0.2480 - prescription_output_loss: 3.6765\n",
            "Epoch 41/100\n",
            "\u001b[1m13/13\u001b[0m \u001b[32m━━━━━━━━━━━━━━━━━━━━\u001b[0m\u001b[37m\u001b[0m \u001b[1m0s\u001b[0m 10ms/step - disease_output_accuracy: 0.4415 - disease_output_loss: 2.3905 - loss: 5.9869 - prescription_output_accuracy: 0.2303 - prescription_output_loss: 3.5979\n",
            "Epoch 42/100\n",
            "\u001b[1m13/13\u001b[0m \u001b[32m━━━━━━━━━━━━━━━━━━━━\u001b[0m\u001b[37m\u001b[0m \u001b[1m0s\u001b[0m 11ms/step - disease_output_accuracy: 0.4335 - disease_output_loss: 2.3527 - loss: 5.8943 - prescription_output_accuracy: 0.2880 - prescription_output_loss: 3.5415\n",
            "Epoch 43/100\n",
            "\u001b[1m13/13\u001b[0m \u001b[32m━━━━━━━━━━━━━━━━━━━━\u001b[0m\u001b[37m\u001b[0m \u001b[1m0s\u001b[0m 9ms/step - disease_output_accuracy: 0.4588 - disease_output_loss: 2.2718 - loss: 5.7534 - prescription_output_accuracy: 0.2621 - prescription_output_loss: 3.4830\n",
            "Epoch 44/100\n",
            "\u001b[1m13/13\u001b[0m \u001b[32m━━━━━━━━━━━━━━━━━━━━\u001b[0m\u001b[37m\u001b[0m \u001b[1m0s\u001b[0m 9ms/step - disease_output_accuracy: 0.4419 - disease_output_loss: 2.2690 - loss: 5.7365 - prescription_output_accuracy: 0.3011 - prescription_output_loss: 3.4680\n",
            "Epoch 45/100\n",
            "\u001b[1m13/13\u001b[0m \u001b[32m━━━━━━━━━━━━━━━━━━━━\u001b[0m\u001b[37m\u001b[0m \u001b[1m0s\u001b[0m 9ms/step - disease_output_accuracy: 0.4576 - disease_output_loss: 2.2375 - loss: 5.6597 - prescription_output_accuracy: 0.2818 - prescription_output_loss: 3.4226\n",
            "Epoch 46/100\n",
            "\u001b[1m13/13\u001b[0m \u001b[32m━━━━━━━━━━━━━━━━━━━━\u001b[0m\u001b[37m\u001b[0m \u001b[1m0s\u001b[0m 10ms/step - disease_output_accuracy: 0.4808 - disease_output_loss: 2.1672 - loss: 5.5039 - prescription_output_accuracy: 0.3452 - prescription_output_loss: 3.3369\n",
            "Epoch 47/100\n",
            "\u001b[1m13/13\u001b[0m \u001b[32m━━━━━━━━━━━━━━━━━━━━\u001b[0m\u001b[37m\u001b[0m \u001b[1m0s\u001b[0m 11ms/step - disease_output_accuracy: 0.4881 - disease_output_loss: 2.1976 - loss: 5.5444 - prescription_output_accuracy: 0.3290 - prescription_output_loss: 3.3475\n",
            "Epoch 48/100\n",
            "\u001b[1m13/13\u001b[0m \u001b[32m━━━━━━━━━━━━━━━━━━━━\u001b[0m\u001b[37m\u001b[0m \u001b[1m0s\u001b[0m 9ms/step - disease_output_accuracy: 0.4926 - disease_output_loss: 2.1184 - loss: 5.3484 - prescription_output_accuracy: 0.3678 - prescription_output_loss: 3.2303\n",
            "Epoch 49/100\n",
            "\u001b[1m13/13\u001b[0m \u001b[32m━━━━━━━━━━━━━━━━━━━━\u001b[0m\u001b[37m\u001b[0m \u001b[1m0s\u001b[0m 9ms/step - disease_output_accuracy: 0.5240 - disease_output_loss: 2.0500 - loss: 5.2518 - prescription_output_accuracy: 0.3740 - prescription_output_loss: 3.2033\n",
            "Epoch 50/100\n",
            "\u001b[1m13/13\u001b[0m \u001b[32m━━━━━━━━━━━━━━━━━━━━\u001b[0m\u001b[37m\u001b[0m \u001b[1m0s\u001b[0m 9ms/step - disease_output_accuracy: 0.4953 - disease_output_loss: 2.0798 - loss: 5.2842 - prescription_output_accuracy: 0.3700 - prescription_output_loss: 3.2039\n",
            "Epoch 51/100\n",
            "\u001b[1m13/13\u001b[0m \u001b[32m━━━━━━━━━━━━━━━━━━━━\u001b[0m\u001b[37m\u001b[0m \u001b[1m0s\u001b[0m 11ms/step - disease_output_accuracy: 0.5428 - disease_output_loss: 1.9976 - loss: 5.1438 - prescription_output_accuracy: 0.3929 - prescription_output_loss: 3.1468\n",
            "Epoch 52/100\n",
            "\u001b[1m13/13\u001b[0m \u001b[32m━━━━━━━━━━━━━━━━━━━━\u001b[0m\u001b[37m\u001b[0m \u001b[1m0s\u001b[0m 11ms/step - disease_output_accuracy: 0.5387 - disease_output_loss: 1.9847 - loss: 5.0670 - prescription_output_accuracy: 0.4080 - prescription_output_loss: 3.0820\n",
            "Epoch 53/100\n",
            "\u001b[1m13/13\u001b[0m \u001b[32m━━━━━━━━━━━━━━━━━━━━\u001b[0m\u001b[37m\u001b[0m \u001b[1m0s\u001b[0m 9ms/step - disease_output_accuracy: 0.5813 - disease_output_loss: 1.8526 - loss: 4.9207 - prescription_output_accuracy: 0.3816 - prescription_output_loss: 3.0684\n",
            "Epoch 54/100\n",
            "\u001b[1m13/13\u001b[0m \u001b[32m━━━━━━━━━━━━━━━━━━━━\u001b[0m\u001b[37m\u001b[0m \u001b[1m0s\u001b[0m 9ms/step - disease_output_accuracy: 0.5654 - disease_output_loss: 1.8323 - loss: 4.8557 - prescription_output_accuracy: 0.4152 - prescription_output_loss: 3.0239\n",
            "Epoch 55/100\n",
            "\u001b[1m13/13\u001b[0m \u001b[32m━━━━━━━━━━━━━━━━━━━━\u001b[0m\u001b[37m\u001b[0m \u001b[1m0s\u001b[0m 9ms/step - disease_output_accuracy: 0.5662 - disease_output_loss: 1.7911 - loss: 4.7901 - prescription_output_accuracy: 0.3916 - prescription_output_loss: 2.9994\n",
            "Epoch 56/100\n",
            "\u001b[1m13/13\u001b[0m \u001b[32m━━━━━━━━━━━━━━━━━━━━\u001b[0m\u001b[37m\u001b[0m \u001b[1m0s\u001b[0m 9ms/step - disease_output_accuracy: 0.5687 - disease_output_loss: 1.8123 - loss: 4.7526 - prescription_output_accuracy: 0.4366 - prescription_output_loss: 2.9406\n",
            "Epoch 57/100\n",
            "\u001b[1m13/13\u001b[0m \u001b[32m━━━━━━━━━━━━━━━━━━━━\u001b[0m\u001b[37m\u001b[0m \u001b[1m0s\u001b[0m 11ms/step - disease_output_accuracy: 0.6334 - disease_output_loss: 1.7241 - loss: 4.6940 - prescription_output_accuracy: 0.4221 - prescription_output_loss: 2.9706\n",
            "Epoch 58/100\n",
            "\u001b[1m13/13\u001b[0m \u001b[32m━━━━━━━━━━━━━━━━━━━━\u001b[0m\u001b[37m\u001b[0m \u001b[1m0s\u001b[0m 9ms/step - disease_output_accuracy: 0.6447 - disease_output_loss: 1.7238 - loss: 4.6147 - prescription_output_accuracy: 0.4691 - prescription_output_loss: 2.8911\n",
            "Epoch 59/100\n",
            "\u001b[1m13/13\u001b[0m \u001b[32m━━━━━━━━━━━━━━━━━━━━\u001b[0m\u001b[37m\u001b[0m \u001b[1m0s\u001b[0m 9ms/step - disease_output_accuracy: 0.6110 - disease_output_loss: 1.7014 - loss: 4.4399 - prescription_output_accuracy: 0.5401 - prescription_output_loss: 2.7396\n",
            "Epoch 60/100\n",
            "\u001b[1m13/13\u001b[0m \u001b[32m━━━━━━━━━━━━━━━━━━━━\u001b[0m\u001b[37m\u001b[0m \u001b[1m0s\u001b[0m 9ms/step - disease_output_accuracy: 0.5961 - disease_output_loss: 1.6913 - loss: 4.5687 - prescription_output_accuracy: 0.3829 - prescription_output_loss: 2.8789\n",
            "Epoch 61/100\n",
            "\u001b[1m13/13\u001b[0m \u001b[32m━━━━━━━━━━━━━━━━━━━━\u001b[0m\u001b[37m\u001b[0m \u001b[1m0s\u001b[0m 9ms/step - disease_output_accuracy: 0.5983 - disease_output_loss: 1.7305 - loss: 4.6026 - prescription_output_accuracy: 0.4137 - prescription_output_loss: 2.8739\n",
            "Epoch 62/100\n",
            "\u001b[1m13/13\u001b[0m \u001b[32m━━━━━━━━━━━━━━━━━━━━\u001b[0m\u001b[37m\u001b[0m \u001b[1m0s\u001b[0m 9ms/step - disease_output_accuracy: 0.6342 - disease_output_loss: 1.6819 - loss: 4.5620 - prescription_output_accuracy: 0.3913 - prescription_output_loss: 2.8798\n",
            "Epoch 63/100\n",
            "\u001b[1m13/13\u001b[0m \u001b[32m━━━━━━━━━━━━━━━━━━━━\u001b[0m\u001b[37m\u001b[0m \u001b[1m0s\u001b[0m 9ms/step - disease_output_accuracy: 0.5964 - disease_output_loss: 1.7264 - loss: 4.5811 - prescription_output_accuracy: 0.4284 - prescription_output_loss: 2.8545\n",
            "Epoch 64/100\n",
            "\u001b[1m13/13\u001b[0m \u001b[32m━━━━━━━━━━━━━━━━━━━━\u001b[0m\u001b[37m\u001b[0m \u001b[1m0s\u001b[0m 10ms/step - disease_output_accuracy: 0.6189 - disease_output_loss: 1.6495 - loss: 4.4220 - prescription_output_accuracy: 0.4309 - prescription_output_loss: 2.7741\n",
            "Epoch 65/100\n",
            "\u001b[1m13/13\u001b[0m \u001b[32m━━━━━━━━━━━━━━━━━━━━\u001b[0m\u001b[37m\u001b[0m \u001b[1m0s\u001b[0m 12ms/step - disease_output_accuracy: 0.6505 - disease_output_loss: 1.6647 - loss: 4.3826 - prescription_output_accuracy: 0.4877 - prescription_output_loss: 2.7176\n",
            "Epoch 66/100\n",
            "\u001b[1m13/13\u001b[0m \u001b[32m━━━━━━━━━━━━━━━━━━━━\u001b[0m\u001b[37m\u001b[0m \u001b[1m0s\u001b[0m 9ms/step - disease_output_accuracy: 0.6416 - disease_output_loss: 1.6062 - loss: 4.3133 - prescription_output_accuracy: 0.4455 - prescription_output_loss: 2.7078\n",
            "Epoch 67/100\n",
            "\u001b[1m13/13\u001b[0m \u001b[32m━━━━━━━━━━━━━━━━━━━━\u001b[0m\u001b[37m\u001b[0m \u001b[1m0s\u001b[0m 9ms/step - disease_output_accuracy: 0.6834 - disease_output_loss: 1.5695 - loss: 4.2321 - prescription_output_accuracy: 0.4396 - prescription_output_loss: 2.6631\n",
            "Epoch 68/100\n",
            "\u001b[1m13/13\u001b[0m \u001b[32m━━━━━━━━━━━━━━━━━━━━\u001b[0m\u001b[37m\u001b[0m \u001b[1m0s\u001b[0m 9ms/step - disease_output_accuracy: 0.6671 - disease_output_loss: 1.5258 - loss: 4.0974 - prescription_output_accuracy: 0.4936 - prescription_output_loss: 2.5729\n",
            "Epoch 69/100\n",
            "\u001b[1m13/13\u001b[0m \u001b[32m━━━━━━━━━━━━━━━━━━━━\u001b[0m\u001b[37m\u001b[0m \u001b[1m0s\u001b[0m 9ms/step - disease_output_accuracy: 0.6819 - disease_output_loss: 1.4749 - loss: 4.0391 - prescription_output_accuracy: 0.5383 - prescription_output_loss: 2.5641\n",
            "Epoch 70/100\n",
            "\u001b[1m13/13\u001b[0m \u001b[32m━━━━━━━━━━━━━━━━━━━━\u001b[0m\u001b[37m\u001b[0m \u001b[1m0s\u001b[0m 9ms/step - disease_output_accuracy: 0.7013 - disease_output_loss: 1.4174 - loss: 3.9163 - prescription_output_accuracy: 0.5200 - prescription_output_loss: 2.4995\n",
            "Epoch 71/100\n",
            "\u001b[1m13/13\u001b[0m \u001b[32m━━━━━━━━━━━━━━━━━━━━\u001b[0m\u001b[37m\u001b[0m \u001b[1m0s\u001b[0m 9ms/step - disease_output_accuracy: 0.7361 - disease_output_loss: 1.3721 - loss: 3.8194 - prescription_output_accuracy: 0.5761 - prescription_output_loss: 2.4488\n",
            "Epoch 72/100\n",
            "\u001b[1m13/13\u001b[0m \u001b[32m━━━━━━━━━━━━━━━━━━━━\u001b[0m\u001b[37m\u001b[0m \u001b[1m0s\u001b[0m 9ms/step - disease_output_accuracy: 0.7525 - disease_output_loss: 1.3582 - loss: 3.8006 - prescription_output_accuracy: 0.5517 - prescription_output_loss: 2.4429\n",
            "Epoch 73/100\n",
            "\u001b[1m13/13\u001b[0m \u001b[32m━━━━━━━━━━━━━━━━━━━━\u001b[0m\u001b[37m\u001b[0m \u001b[1m0s\u001b[0m 9ms/step - disease_output_accuracy: 0.7304 - disease_output_loss: 1.3347 - loss: 3.7616 - prescription_output_accuracy: 0.5778 - prescription_output_loss: 2.4263\n",
            "Epoch 74/100\n",
            "\u001b[1m13/13\u001b[0m \u001b[32m━━━━━━━━━━━━━━━━━━━━\u001b[0m\u001b[37m\u001b[0m \u001b[1m0s\u001b[0m 9ms/step - disease_output_accuracy: 0.7834 - disease_output_loss: 1.3276 - loss: 3.7438 - prescription_output_accuracy: 0.5614 - prescription_output_loss: 2.4167\n",
            "Epoch 75/100\n",
            "\u001b[1m13/13\u001b[0m \u001b[32m━━━━━━━━━━━━━━━━━━━━\u001b[0m\u001b[37m\u001b[0m \u001b[1m0s\u001b[0m 10ms/step - disease_output_accuracy: 0.7669 - disease_output_loss: 1.2774 - loss: 3.6486 - prescription_output_accuracy: 0.5552 - prescription_output_loss: 2.3724\n",
            "Epoch 76/100\n",
            "\u001b[1m13/13\u001b[0m \u001b[32m━━━━━━━━━━━━━━━━━━━━\u001b[0m\u001b[37m\u001b[0m \u001b[1m0s\u001b[0m 9ms/step - disease_output_accuracy: 0.7333 - disease_output_loss: 1.3117 - loss: 3.7074 - prescription_output_accuracy: 0.5648 - prescription_output_loss: 2.3957\n",
            "Epoch 77/100\n",
            "\u001b[1m13/13\u001b[0m \u001b[32m━━━━━━━━━━━━━━━━━━━━\u001b[0m\u001b[37m\u001b[0m \u001b[1m0s\u001b[0m 9ms/step - disease_output_accuracy: 0.7577 - disease_output_loss: 1.2568 - loss: 3.5869 - prescription_output_accuracy: 0.5706 - prescription_output_loss: 2.3287\n",
            "Epoch 78/100\n",
            "\u001b[1m13/13\u001b[0m \u001b[32m━━━━━━━━━━━━━━━━━━━━\u001b[0m\u001b[37m\u001b[0m \u001b[1m0s\u001b[0m 9ms/step - disease_output_accuracy: 0.7727 - disease_output_loss: 1.2610 - loss: 3.5419 - prescription_output_accuracy: 0.6371 - prescription_output_loss: 2.2830\n",
            "Epoch 79/100\n",
            "\u001b[1m13/13\u001b[0m \u001b[32m━━━━━━━━━━━━━━━━━━━━\u001b[0m\u001b[37m\u001b[0m \u001b[1m0s\u001b[0m 9ms/step - disease_output_accuracy: 0.7877 - disease_output_loss: 1.1911 - loss: 3.4014 - prescription_output_accuracy: 0.5668 - prescription_output_loss: 2.2103\n",
            "Epoch 80/100\n",
            "\u001b[1m13/13\u001b[0m \u001b[32m━━━━━━━━━━━━━━━━━━━━\u001b[0m\u001b[37m\u001b[0m \u001b[1m0s\u001b[0m 9ms/step - disease_output_accuracy: 0.7778 - disease_output_loss: 1.1960 - loss: 3.4077 - prescription_output_accuracy: 0.5731 - prescription_output_loss: 2.2122\n",
            "Epoch 81/100\n",
            "\u001b[1m13/13\u001b[0m \u001b[32m━━━━━━━━━━━━━━━━━━━━\u001b[0m\u001b[37m\u001b[0m \u001b[1m0s\u001b[0m 10ms/step - disease_output_accuracy: 0.7553 - disease_output_loss: 1.2492 - loss: 3.4026 - prescription_output_accuracy: 0.6599 - prescription_output_loss: 2.1532\n",
            "Epoch 82/100\n",
            "\u001b[1m13/13\u001b[0m \u001b[32m━━━━━━━━━━━━━━━━━━━━\u001b[0m\u001b[37m\u001b[0m \u001b[1m0s\u001b[0m 14ms/step - disease_output_accuracy: 0.8128 - disease_output_loss: 1.1164 - loss: 3.3167 - prescription_output_accuracy: 0.5924 - prescription_output_loss: 2.2005\n",
            "Epoch 83/100\n",
            "\u001b[1m13/13\u001b[0m \u001b[32m━━━━━━━━━━━━━━━━━━━━\u001b[0m\u001b[37m\u001b[0m \u001b[1m0s\u001b[0m 13ms/step - disease_output_accuracy: 0.7760 - disease_output_loss: 1.1840 - loss: 3.3276 - prescription_output_accuracy: 0.6204 - prescription_output_loss: 2.1421\n",
            "Epoch 84/100\n",
            "\u001b[1m13/13\u001b[0m \u001b[32m━━━━━━━━━━━━━━━━━━━━\u001b[0m\u001b[37m\u001b[0m \u001b[1m0s\u001b[0m 13ms/step - disease_output_accuracy: 0.7881 - disease_output_loss: 1.0830 - loss: 3.2137 - prescription_output_accuracy: 0.6054 - prescription_output_loss: 2.1322\n",
            "Epoch 85/100\n",
            "\u001b[1m13/13\u001b[0m \u001b[32m━━━━━━━━━━━━━━━━━━━━\u001b[0m\u001b[37m\u001b[0m \u001b[1m0s\u001b[0m 16ms/step - disease_output_accuracy: 0.8184 - disease_output_loss: 1.0812 - loss: 3.0931 - prescription_output_accuracy: 0.6440 - prescription_output_loss: 2.0115\n",
            "Epoch 86/100\n",
            "\u001b[1m13/13\u001b[0m \u001b[32m━━━━━━━━━━━━━━━━━━━━\u001b[0m\u001b[37m\u001b[0m \u001b[1m0s\u001b[0m 12ms/step - disease_output_accuracy: 0.7830 - disease_output_loss: 1.1041 - loss: 3.1366 - prescription_output_accuracy: 0.6171 - prescription_output_loss: 2.0333\n",
            "Epoch 87/100\n",
            "\u001b[1m13/13\u001b[0m \u001b[32m━━━━━━━━━━━━━━━━━━━━\u001b[0m\u001b[37m\u001b[0m \u001b[1m0s\u001b[0m 13ms/step - disease_output_accuracy: 0.8401 - disease_output_loss: 1.0161 - loss: 3.0370 - prescription_output_accuracy: 0.6133 - prescription_output_loss: 2.0211\n",
            "Epoch 88/100\n",
            "\u001b[1m13/13\u001b[0m \u001b[32m━━━━━━━━━━━━━━━━━━━━\u001b[0m\u001b[37m\u001b[0m \u001b[1m0s\u001b[0m 13ms/step - disease_output_accuracy: 0.8277 - disease_output_loss: 1.0459 - loss: 3.0111 - prescription_output_accuracy: 0.6974 - prescription_output_loss: 1.9648\n",
            "Epoch 89/100\n",
            "\u001b[1m13/13\u001b[0m \u001b[32m━━━━━━━━━━━━━━━━━━━━\u001b[0m\u001b[37m\u001b[0m \u001b[1m0s\u001b[0m 10ms/step - disease_output_accuracy: 0.8007 - disease_output_loss: 1.0651 - loss: 3.0453 - prescription_output_accuracy: 0.6485 - prescription_output_loss: 1.9800\n",
            "Epoch 90/100\n",
            "\u001b[1m13/13\u001b[0m \u001b[32m━━━━━━━━━━━━━━━━━━━━\u001b[0m\u001b[37m\u001b[0m \u001b[1m0s\u001b[0m 9ms/step - disease_output_accuracy: 0.8402 - disease_output_loss: 1.0161 - loss: 2.9833 - prescription_output_accuracy: 0.6250 - prescription_output_loss: 1.9660\n",
            "Epoch 91/100\n",
            "\u001b[1m13/13\u001b[0m \u001b[32m━━━━━━━━━━━━━━━━━━━━\u001b[0m\u001b[37m\u001b[0m \u001b[1m0s\u001b[0m 9ms/step - disease_output_accuracy: 0.8107 - disease_output_loss: 1.0450 - loss: 3.0101 - prescription_output_accuracy: 0.6126 - prescription_output_loss: 1.9656\n",
            "Epoch 92/100\n",
            "\u001b[1m13/13\u001b[0m \u001b[32m━━━━━━━━━━━━━━━━━━━━\u001b[0m\u001b[37m\u001b[0m \u001b[1m0s\u001b[0m 9ms/step - disease_output_accuracy: 0.8282 - disease_output_loss: 1.0363 - loss: 2.9534 - prescription_output_accuracy: 0.6863 - prescription_output_loss: 1.9166\n",
            "Epoch 93/100\n",
            "\u001b[1m13/13\u001b[0m \u001b[32m━━━━━━━━━━━━━━━━━━━━\u001b[0m\u001b[37m\u001b[0m \u001b[1m0s\u001b[0m 9ms/step - disease_output_accuracy: 0.8191 - disease_output_loss: 1.0238 - loss: 2.9922 - prescription_output_accuracy: 0.6324 - prescription_output_loss: 1.9674\n",
            "Epoch 94/100\n",
            "\u001b[1m13/13\u001b[0m \u001b[32m━━━━━━━━━━━━━━━━━━━━\u001b[0m\u001b[37m\u001b[0m \u001b[1m0s\u001b[0m 9ms/step - disease_output_accuracy: 0.8526 - disease_output_loss: 0.9461 - loss: 2.8578 - prescription_output_accuracy: 0.6371 - prescription_output_loss: 1.9115\n",
            "Epoch 95/100\n",
            "\u001b[1m13/13\u001b[0m \u001b[32m━━━━━━━━━━━━━━━━━━━━\u001b[0m\u001b[37m\u001b[0m \u001b[1m0s\u001b[0m 9ms/step - disease_output_accuracy: 0.7612 - disease_output_loss: 1.0861 - loss: 3.1030 - prescription_output_accuracy: 0.6059 - prescription_output_loss: 2.0160\n",
            "Epoch 96/100\n",
            "\u001b[1m13/13\u001b[0m \u001b[32m━━━━━━━━━━━━━━━━━━━━\u001b[0m\u001b[37m\u001b[0m \u001b[1m0s\u001b[0m 9ms/step - disease_output_accuracy: 0.8143 - disease_output_loss: 1.0038 - loss: 2.9138 - prescription_output_accuracy: 0.6368 - prescription_output_loss: 1.9119\n",
            "Epoch 97/100\n",
            "\u001b[1m13/13\u001b[0m \u001b[32m━━━━━━━━━━━━━━━━━━━━\u001b[0m\u001b[37m\u001b[0m \u001b[1m0s\u001b[0m 9ms/step - disease_output_accuracy: 0.7406 - disease_output_loss: 1.1702 - loss: 3.2300 - prescription_output_accuracy: 0.5874 - prescription_output_loss: 2.0589\n",
            "Epoch 98/100\n",
            "\u001b[1m13/13\u001b[0m \u001b[32m━━━━━━━━━━━━━━━━━━━━\u001b[0m\u001b[37m\u001b[0m \u001b[1m0s\u001b[0m 10ms/step - disease_output_accuracy: 0.7625 - disease_output_loss: 1.0564 - loss: 3.0697 - prescription_output_accuracy: 0.6075 - prescription_output_loss: 2.0135\n",
            "Epoch 99/100\n",
            "\u001b[1m13/13\u001b[0m \u001b[32m━━━━━━━━━━━━━━━━━━━━\u001b[0m\u001b[37m\u001b[0m \u001b[1m0s\u001b[0m 9ms/step - disease_output_accuracy: 0.7546 - disease_output_loss: 1.1617 - loss: 3.1906 - prescription_output_accuracy: 0.5592 - prescription_output_loss: 2.0276\n",
            "Epoch 100/100\n",
            "\u001b[1m13/13\u001b[0m \u001b[32m━━━━━━━━━━━━━━━━━━━━\u001b[0m\u001b[37m\u001b[0m \u001b[1m0s\u001b[0m 12ms/step - disease_output_accuracy: 0.7840 - disease_output_loss: 1.0689 - loss: 3.0488 - prescription_output_accuracy: 0.5525 - prescription_output_loss: 1.9787\n"
          ]
        },
        {
          "data": {
            "text/plain": [
              "<keras.src.callbacks.history.History at 0x7fcf6d3f7d10>"
            ]
          },
          "execution_count": 10,
          "metadata": {},
          "output_type": "execute_result"
        }
      ],
      "source": [
        "model.fit(padded_sequences,\n",
        "    {'disease_output': disease_labels_categorical,\n",
        "    'prescription_output': prescription_labels_categorical},\n",
        "    epochs=100,\n",
        "    batch_size=32\n",
        ")"
      ]
    },
    {
      "cell_type": "markdown",
      "metadata": {
        "id": "soFhPLIXzPoO"
      },
      "source": [
        "Making Predictions\n",
        "\n",
        "The model is used to make predictions for new patients:\n",
        "\n",
        "1. Pre-processed the patient's symptoms by performing tokenization and padding.\n",
        "2. Feed the pre-processed data into the trained model.\n",
        "3. The model predicts the disease and medication based on the patient's symptoms.\n",
        "4. The predicted disease and medication will be presented."
      ]
    },
    {
      "cell_type": "code",
      "execution_count": 11,
      "metadata": {
        "colab": {
          "base_uri": "https://localhost:8080/"
        },
        "id": "wcaZ5m97xak8",
        "outputId": "cb8e0459-0a75-44a7-8489-9f3ea9a85dbb"
      },
      "outputs": [
        {
          "name": "stdout",
          "output_type": "stream",
          "text": [
            "\u001b[1m1/1\u001b[0m \u001b[32m━━━━━━━━━━━━━━━━━━━━\u001b[0m\u001b[37m\u001b[0m \u001b[1m0s\u001b[0m 136ms/step\n",
            "Predicted Disease: Depression\n",
            "Suggested Prescription: Antidepressants; eating nutrient-rich foods.\n"
          ]
        }
      ],
      "source": [
        "def make_prediction(patient_problem):\n",
        "  # Preprocessing the input\n",
        "  sequence = tokenizer.texts_to_sequences([patient_problem])\n",
        "  padded_sequence = pad_sequences(sequence, maxlen=max_length, padding='post')\n",
        "\n",
        "  # Making the prediction\n",
        "  predictions = model.predict(padded_sequence)\n",
        "\n",
        "  # Decoding the sequence\n",
        "  disease_index = np.argmax(predictions[0], axis=1)[0]\n",
        "  prediction_index = np.argmax(predictions[1], axis=1)[0]\n",
        "\n",
        "  disease_predicted = label_encoder_disease.inverse_transform([disease_index])[0]\n",
        "  prescription_predicted = label_encoder_prescription.inverse_transform([prediction_index])[0]\n",
        "\n",
        "  print(f\"Predicted Disease: {disease_predicted}\")\n",
        "  print(f\"Suggested Prescription: {prescription_predicted}\")\n",
        "\n",
        "patient_input = \"I've experienced a loss of appetite and don't enjoy food anymore.\"\n",
        "make_prediction(patient_input)"
      ]
    },
    {
      "cell_type": "markdown",
      "metadata": {
        "id": "sj6ryjY-zfK-"
      },
      "source": [
        "Conclusion\n",
        "\n",
        "- Adding deep learning to medical diagnostics is a game-changer in healthcare.The model is trained on the preprocessed dataset, iteratively adjusting its internal parameters to improve its accuracy in predicting diseases and medications based on patient symptoms.\n",
        "\n",
        "- In addition, these fancy models can find new patterns in big datasets, which could help us better understand tricky medical conditions. The future looks bright as we use AI to bring together technology and human knowledge for the benefit of patient health and medical research."
      ]
    }
  ],
  "metadata": {
    "accelerator": "GPU",
    "colab": {
      "gpuType": "T4",
      "provenance": []
    },
    "kernelspec": {
      "display_name": "Python 3",
      "name": "python3"
    },
    "language_info": {
      "name": "python"
    }
  },
  "nbformat": 4,
  "nbformat_minor": 0
}
